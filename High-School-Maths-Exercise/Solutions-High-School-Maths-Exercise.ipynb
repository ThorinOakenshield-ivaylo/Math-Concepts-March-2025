{
 "cells": [
  {
   "cell_type": "code",
   "execution_count": 1,
   "id": "f70b663b-8833-4ab8-8efe-e7a5feb3eb83",
   "metadata": {},
   "outputs": [],
   "source": [
    "# imports\n",
    "import sympy\n",
    "import math\n",
    "from typing import Tuple, List\n",
    "import numpy as np"
   ]
  },
  {
   "cell_type": "markdown",
   "id": "8d1afd63-0815-4dd6-9b35-26fd39ad8e42",
   "metadata": {},
   "source": [
    "# Contents\n",
    "\n",
    "1. [Solution - 1.Markdown](#Solution---1.Markdown)\n",
    "2. [Solution - 2.Formulas and LaTeX](#Solution---2.Formulas-and-LaTeX)\n",
    "3. [Solution - 3.Solving equations with Python](#Solution---3.Solving-equations-with-Python)\n",
    "4. [Solution - 4.Some tricks with Python functions](#Solution---4.Some-tricks-with-Python-functions)\n",
    "5. [Solution - 5.Getting started with Math](Solution---5.Getting-started-with-Math) fix\n"
   ]
  },
  {
   "cell_type": "markdown",
   "id": "c3b870aa-5cd2-42ec-a352-88b7013cbb71",
   "metadata": {},
   "source": [
    "# Solutions - High-School Maths Exercise"
   ]
  },
  {
   "cell_type": "markdown",
   "id": "2e289cd2-b868-474b-bc56-3f2ac580566f",
   "metadata": {},
   "source": [
    "### Solution - 1.Markdown"
   ]
  },
  {
   "cell_type": "markdown",
   "id": "c27c6587-8297-4486-aa37-ba20db674efa",
   "metadata": {},
   "source": [
    "<div align=\"center\">\n",
    "    <h2 style=\"text-align: center;\">Python Introduction</h2>\n",
    "</div>"
   ]
  },
  {
   "cell_type": "markdown",
   "id": "53c20d09-4a83-455d-87b8-8febbb81c4ad",
   "metadata": {},
   "source": [
    "### **What is Python?**\n",
    "\n",
    "Python is a popular programming language. It was created by Guido van Rossum, and released in 1991.\n",
    "\n",
    "It is used for:\n",
    "- web development (server-side),\n",
    "- software development,\n",
    "- mathematics,\n",
    "- AI, ML and Deep Learning,\n",
    "- system scripting.\n",
    "\n",
    "<br>\n",
    "\n",
    "![Python Logo](https://upload.wikimedia.org/wikipedia/commons/thumb/c/c3/Python-logo-notext.svg/225px-Python-logo-notext.svg.png)\n",
    "Logo of Python.\n",
    "\n",
    "### **What can Python do?**\n",
    "\n",
    "1. Python can be used on a server to create web applications.\n",
    "2. Python can be used alongside software to create workflows.\n",
    "3. Python can connect to database systems. It can also read and modify files.\n",
    "4. Python can be used to handle big data and perform complex mathematics.\n",
    "5. Python can be used for rapid prototyping, or for production-ready software development."
   ]
  },
  {
   "cell_type": "markdown",
   "id": "7de6b6bd-2ab7-46e7-ac3d-7b570e85fdbd",
   "metadata": {},
   "source": [
    "---"
   ]
  },
  {
   "cell_type": "markdown",
   "id": "b136bef2-19de-43ec-85ad-f5db24c241f3",
   "metadata": {},
   "source": [
    "### **Why Python?**\n",
    "\n",
    "- Python works on different platforms (Windows, Mac, Linux, Raspberry Pi, etc).\n",
    "- Python has a simple syntax similar to the English language.\n",
    "- Python has syntax that allows developers to write programs with fewer lines than some other programming languages.\n",
    "- Python runs on an interpreter system, meaning that code can be executed as soon as it is written. This means that prototyping can be very quick.\n",
    "- Python can be treated in a procedural way, an object-oriented way or a functional way.\n",
    "\n",
    "#### Good to know\n",
    "\n",
    "- The most recent major version of Python is Python 3, which we shall be using in this tutorial. However, Python 2, although not being updated with anything other than security updates, is still quite popular.\n",
    "- In this tutorial Python will be written in a text editor. It is possible to write Python in an Integrated Development Environment, such as Thonny, Pycharm, Netbeans or Eclipse which are particularly useful when managing larger collections of Python files.\n",
    "\n",
    "#### Python Syntax compared to other programming languages\n",
    "\n",
    "- Python was designed for readability, and has some similarities to the English language with influence from mathematics.\n",
    "- Python uses new lines to complete a command, as opposed to other programming languages which often use semicolons or parentheses.\n",
    "- Python relies on indentation, using whitespace, to define scope; such as the scope of loops, functions and classes. Other programming languages often use curly-brackets for this purpose.\n",
    "\n",
    "\n",
    "##### **Example**\n",
    "```python\n",
    "# Creation of an object\n",
    "class Person:\n",
    "  def __init__(self, name, age):\n",
    "    self.name = name\n",
    "    self.age = age\n",
    "\n",
    "p1 = Person(\"John\", 36)\n",
    "\n",
    "print(p1.name)\n",
    "print(p1.age)\n",
    "\n",
    "```\n",
    "\n",
    "The print values will be `John, 36`."
   ]
  },
  {
   "cell_type": "markdown",
   "id": "0d7f7665-f677-4901-8ddb-c23e4f6d849b",
   "metadata": {},
   "source": [
    "\n"
   ]
  },
  {
   "cell_type": "markdown",
   "id": "a4ad165a-0f90-41d2-b82d-f266b4aaaabc",
   "metadata": {},
   "source": [
    "### Solution - 2.Formulas and LaTeX"
   ]
  },
  {
   "cell_type": "markdown",
   "id": "1a5108d3-3bdf-4780-9d5f-505d693ea942",
   "metadata": {},
   "source": [
    "#### **Formulas**"
   ]
  },
  {
   "cell_type": "markdown",
   "id": "2ffba189-4907-45e8-9004-0f0543701a26",
   "metadata": {},
   "source": [
    "***Equation of a line:***\n",
    "$$ y = ax + b $$\n",
    "\n",
    "***Roots of the quadratic equation $ ax^2 + bx + c = 0:$***\n",
    "$$ x_{1, 2} = \\frac{-b \\pm \\sqrt{b^2 - 4ac}}{2a} $$\n",
    "\n",
    "***Taylor series expansion:***\n",
    "$$ f(x) \\small|_{\\scriptstyle x=a} = f(a) + f'(a)(x - a) + \\frac{f^{n}(a)}{2!}(x - a)^2 \\, +\\, ...  \\,+ \\frac{f^{(n)} (a)}{n!}(x - a)^n \\, + \\, ... $$\n",
    "\n",
    "***Binomial theorem:***\n",
    "$$ (x + y)^n = \\binom{n}{0} x^n y^0 + \\binom{n}{1} x^{n - 1} y^1 + \\, ... \\, + \\binom{n}{n} x^0 y^n = \\sum_{k=0}^{n} \\binom{n}{k} x^{n-k} y^k $$\n",
    "\n",
    "***An integral:***\n",
    "$$ \\int_{-\\infty}^{+\\infty} e^{{-x}^2} dx = \\sqrt{\\pi} $$\n",
    "\n",
    "***Short matrix:***\n",
    "$$\n",
    "\\begin{pmatrix}\n",
    "2 & 1 & 3 \\\\\n",
    "2 & 6 & 8 \\\\\n",
    "6 & 8 & 18\n",
    "\\end{pmatrix}\n",
    "$$\n",
    "\n",
    "***Long matrix:***\n",
    "$$\n",
    "A = \n",
    "\\begin{pmatrix}\n",
    "a_{11} & a_{12} & \\dots & a_{1n} \\\\\n",
    "a_{21} & a_{23} & \\dots & a_{2n} \\\\\n",
    "\\vdots & \\vdots & \\ddots & \\vdots \\\\\n",
    "a_{m1} & a_{m2} & \\dots & a_{mn}\n",
    "\\end{pmatrix}\n",
    "$$\n"
   ]
  },
  {
   "cell_type": "markdown",
   "id": "f4498c8d-bcc5-45cb-911d-ee84ac7d62f1",
   "metadata": {},
   "source": [
    "\n"
   ]
  },
  {
   "cell_type": "markdown",
   "id": "57bc60f5-1d3d-4a2e-a485-f61e461057c9",
   "metadata": {},
   "source": [
    "### Solution - 3.Solving equations with Python"
   ]
  },
  {
   "cell_type": "code",
   "execution_count": 2,
   "id": "94923978-5f9c-4f1b-9ff9-a5cf5a1a6e9e",
   "metadata": {},
   "outputs": [
    {
     "data": {
      "image/png": "[encoded data removed]",
      "text/latex": [
       "$\\displaystyle \\left[ \\frac{- b - \\sqrt{- 4 a c + b^{2}}}{2 a}, \\  \\frac{- b + \\sqrt{- 4 a c + b^{2}}}{2 a}\\right]$"
      ],
      "text/plain": [
       "⎡        _____________          _____________⎤\n",
       "⎢       ╱           2          ╱           2 ⎥\n",
       "⎢-b - ╲╱  -4⋅a⋅c + b    -b + ╲╱  -4⋅a⋅c + b  ⎥\n",
       "⎢─────────────────────, ─────────────────────⎥\n",
       "⎣         2⋅a                    2⋅a         ⎦"
      ]
     },
     "execution_count": 2,
     "metadata": {},
     "output_type": "execute_result"
    }
   ],
   "source": [
    "sympy.init_printing()\n",
    "\n",
    "x = sympy.symbols('x')\n",
    "a, b, c = sympy.symbols('a b c')\n",
    "\n",
    "sympy.solve(a * x**2 + b * x + c, x)"
   ]
  },
  {
   "cell_type": "code",
   "execution_count": 3,
   "id": "33f87d9e-f0cc-4f32-815a-1a80493dbf4e",
   "metadata": {},
   "outputs": [],
   "source": [
    "def linear_equation_solver(b: int, c: int) -> str:\n",
    "    if b == 0:\n",
    "        if c == 0:\n",
    "            return \"Infinite solutions (0 = 0)\"\n",
    "        else:\n",
    "            return \"No solution (division by zero)\"\n",
    "    \n",
    "    solver = -c / b\n",
    "    \n",
    "    return f\"Answer: {solver:.1f}, {-c} / {b}\"\n",
    "\n",
    "\n",
    "def roots_solver(a: int, b: int, discriminant: int) -> Tuple[float, float]:\n",
    "    x1 = (-b + math.sqrt(discriminant)) / (2 * a)\n",
    "    x2 = (-b - math.sqrt(discriminant)) / (2 * a)\n",
    "\n",
    "\n",
    "    if x1 > x2:\n",
    "        return x1, x2\n",
    "\n",
    "    return x2, x1\n",
    "\n",
    "\n",
    "def solve_quadratic_equation(a: int, b: int, c: int):\n",
    "    if a == 0:\n",
    "        return linear_equation_solver(b, c)\n",
    "    \n",
    "    discriminant = b ** 2 - 4 * a * c\n",
    "\n",
    "    if discriminant > 0:\n",
    "        x1, x2 = roots_solver(a, b, discriminant)\n",
    "\n",
    "        return [x1, x2]\n",
    "\n",
    "    elif discriminant == 0:\n",
    "        x = -b / (2 * a)\n",
    "\n",
    "        return [x]\n",
    "\n",
    "    else:\n",
    "        return []"
   ]
  },
  {
   "cell_type": "code",
   "execution_count": 4,
   "id": "dd8ecd2f-28ce-466f-99ea-7c3b10dbfe11",
   "metadata": {},
   "outputs": [
    {
     "name": "stdout",
     "output_type": "stream",
     "text": [
      "[2.0, -1.0]\n",
      "[4.0]\n",
      "[]\n",
      "Answer: -1.0, -1 / 1\n",
      "Answer: -0.7, -5 / 7\n"
     ]
    }
   ],
   "source": [
    "# Testing: Execute this cell. The outputs should match the expected outputs. Feel free to write more tests\n",
    "print(solve_quadratic_equation(1, -1, -2)) # [-1.0, 2.0]\n",
    "print(solve_quadratic_equation(1, -8, 16)) # [4.0]\n",
    "print(solve_quadratic_equation(1, 1, 1)) # []\n",
    "print(solve_quadratic_equation(0, 1, 1))\n",
    "print(solve_quadratic_equation(0, 7, 5))"
   ]
  },
  {
   "cell_type": "markdown",
   "id": "d98c8bb2-be90-41cf-9e42-cd2c7d3763a3",
   "metadata": {},
   "source": [
    "\n"
   ]
  },
  {
   "cell_type": "markdown",
   "id": "c0fb962c-0256-40fd-b573-82176a072c41",
   "metadata": {},
   "source": [
    "### Solution - 4.Some tricks with Python functions"
   ]
  },
  {
   "cell_type": "markdown",
   "id": "76f7bf63-fc92-48ed-9860-6d241ac7760e",
   "metadata": {},
   "source": [
    "#### Fibonacci formula, where $n > 1$. For $F(0) = 0$ and $F(1) = 1$"
   ]
  },
  {
   "cell_type": "markdown",
   "id": "c4dda8d6-d5ad-4d53-bd94-eeb7cec4cf1a",
   "metadata": {},
   "source": [
    "$$ F(n) = F(n - 1) + F(n - 2) $$"
   ]
  },
  {
   "cell_type": "code",
   "execution_count": 5,
   "id": "af202b7d-7b1e-487c-85cf-cfb971548ef3",
   "metadata": {},
   "outputs": [
    {
     "name": "stdin",
     "output_type": "stream",
     "text": [
      "Your number:  3\n"
     ]
    },
    {
     "name": "stdout",
     "output_type": "stream",
     "text": [
      "[0, 1, 1]\n",
      "Original: [0, 1, 1]\n",
      "Sqrt: [0, 1, 1]\n",
      "Odd: [1, 1]\n",
      "Sum of all odd numbers is: 2\n"
     ]
    }
   ],
   "source": [
    "def fibonacci_recursive(n: int) -> int:\n",
    "    if n == 0:\n",
    "        return 0\n",
    "\n",
    "    elif n == 1:\n",
    "        return 1\n",
    "\n",
    "    return fibonacci_recursive(n - 1) + fibonacci_recursive(n - 2)\n",
    "\n",
    "fibonacci_nums = [fibonacci_recursive(n) for n in range(int(input(\"Your number: \")))]\n",
    "print(fibonacci_nums)\n",
    "\n",
    "fibonacci_nums_sqrt = [n**2 for n in fibonacci_nums]\n",
    "print(f\"Original: {fibonacci_nums}\")\n",
    "print(f\"Sqrt: {fibonacci_nums_sqrt}\")\n",
    "\n",
    "fibonacci_nums_odd_only = [n for n in fibonacci_nums_sqrt if n % 2 != 0]\n",
    "print(f\"Odd: {fibonacci_nums_odd_only}\")\n",
    "\n",
    "print(f\"Sum of all odd numbers is: {sum(fibonacci_nums_odd_only)}\")"
   ]
  },
  {
   "cell_type": "markdown",
   "id": "5acad8b6-8302-4eec-9d2b-59d5aa64395d",
   "metadata": {},
   "source": [
    "\n"
   ]
  },
  {
   "cell_type": "markdown",
   "id": "2a746619-6846-47cb-a8eb-e1a8e53d17fe",
   "metadata": {},
   "source": [
    "### Solution - 5.Getting started with Math #FIX Link#"
   ]
  },
  {
   "cell_type": "code",
   "execution_count": null,
   "id": "779dfab7-63d5-4368-b025-ad33c4aa917e",
   "metadata": {},
   "outputs": [],
   "source": []
  }
 ],
 "metadata": {
  "kernelspec": {
   "display_name": "Python 3 (ipykernel)",
   "language": "python",
   "name": "python3"
  },
  "language_info": {
   "codemirror_mode": {
    "name": "ipython",
    "version": 3
   },
   "file_extension": ".py",
   "mimetype": "text/x-python",
   "name": "python",
   "nbconvert_exporter": "python",
   "pygments_lexer": "ipython3",
   "version": "3.12.6"
  }
 },
 "nbformat": 4,
 "nbformat_minor": 5
}
